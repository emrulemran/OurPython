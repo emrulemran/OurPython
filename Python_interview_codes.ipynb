{
  "nbformat": 4,
  "nbformat_minor": 0,
  "metadata": {
    "colab": {
      "provenance": [],
      "authorship_tag": "ABX9TyMjQgU8PfqFdeqFGG4UVEXC",
      "include_colab_link": true
    },
    "kernelspec": {
      "name": "python3",
      "display_name": "Python 3"
    },
    "language_info": {
      "name": "python"
    }
  },
  "cells": [
    {
      "cell_type": "markdown",
      "metadata": {
        "id": "view-in-github",
        "colab_type": "text"
      },
      "source": [
        "<a href=\"https://colab.research.google.com/github/emrulemran/OurPython/blob/main/Python_interview_codes.ipynb\" target=\"_parent\"><img src=\"https://colab.research.google.com/assets/colab-badge.svg\" alt=\"Open In Colab\"/></a>"
      ]
    },
    {
      "cell_type": "code",
      "execution_count": null,
      "metadata": {
        "colab": {
          "base_uri": "https://localhost:8080/"
        },
        "id": "btRwC237S3OS",
        "outputId": "155d0731-322f-4765-f178-03b213e5fa02"
      },
      "outputs": [
        {
          "output_type": "stream",
          "name": "stdout",
          "text": [
            "before swap:\n",
            "10\n",
            "20\n",
            "after swap:\n",
            "20\n",
            "10\n"
          ]
        }
      ],
      "source": [
        "# Swap Values:\n",
        "x = 10\n",
        "y = 20\n",
        "print('before swap:')\n",
        "print(x)\n",
        "print(y)\n",
        "\n",
        "x, y = y, x\n",
        "\n",
        "\n",
        "print('after swap:')\n",
        "print(x)\n",
        "print(y)"
      ]
    },
    {
      "cell_type": "code",
      "source": [
        "# List comprehension:\n",
        "\n",
        "lc = [x **2 for x in range(0, 25, 2)]\n",
        "print(lc)"
      ],
      "metadata": {
        "colab": {
          "base_uri": "https://localhost:8080/"
        },
        "id": "xs7TCpQQfnk4",
        "outputId": "1ecff94f-6159-4f33-ae99-755679821c2d"
      },
      "execution_count": null,
      "outputs": [
        {
          "output_type": "stream",
          "name": "stdout",
          "text": [
            "[0, 4, 16, 36, 64, 100, 144, 196, 256, 324, 400, 484, 576]\n"
          ]
        }
      ]
    },
    {
      "cell_type": "code",
      "source": [
        "cubesList = [x**3 for x in range(0, 10,1)]\n",
        "print(cubesList)"
      ],
      "metadata": {
        "colab": {
          "base_uri": "https://localhost:8080/"
        },
        "id": "DiXRbu8FTCro",
        "outputId": "03db4e9f-7631-4a9d-d020-c148a3795910"
      },
      "execution_count": null,
      "outputs": [
        {
          "output_type": "stream",
          "name": "stdout",
          "text": [
            "[0, 1, 8, 27, 64, 125, 216, 343, 512, 729]\n"
          ]
        }
      ]
    },
    {
      "cell_type": "code",
      "source": [
        "# multiple assignements:\n",
        "x,y, z = 10, 20, 30\n",
        "print(x, y, z)\n"
      ],
      "metadata": {
        "colab": {
          "base_uri": "https://localhost:8080/"
        },
        "id": "Lm8-uTmUg94J",
        "outputId": "357a6179-cc12-41d8-cbd5-8d28fc4c7e04"
      },
      "execution_count": null,
      "outputs": [
        {
          "output_type": "stream",
          "name": "stdout",
          "text": [
            "10 20 30\n"
          ]
        }
      ]
    },
    {
      "cell_type": "code",
      "source": [
        "# Unpacking: unpack elements of a list or tuple into separate variables\n",
        "list = [10, 20, 30, 40, 50]\n",
        "a, b, c, d, e = list\n",
        "\n",
        "print(a)\n",
        "print(b)\n",
        "print(c)\n",
        "print(d)\n",
        "print(e)"
      ],
      "metadata": {
        "colab": {
          "base_uri": "https://localhost:8080/"
        },
        "id": "C3SMia7hj_0J",
        "outputId": "721e2ee3-23d5-4d9b-aacf-87377280c06a"
      },
      "execution_count": null,
      "outputs": [
        {
          "output_type": "stream",
          "name": "stdout",
          "text": [
            "10\n",
            "20\n",
            "30\n",
            "40\n",
            "50\n"
          ]
        }
      ]
    },
    {
      "cell_type": "code",
      "source": [
        "# merge dictioneries:\n",
        "\n",
        "d1 = {1:'a', 2:'b', 3:'c', 4:'d'}\n",
        "d2 = {5:'e', 6:'f', 7:'g', 8:'h'}\n",
        "\n",
        "mrgD = {**d1 , **d2}\n",
        "print(mrgD)\n"
      ],
      "metadata": {
        "colab": {
          "base_uri": "https://localhost:8080/"
        },
        "id": "FYCxVJ1skXHd",
        "outputId": "d2caaa6c-be34-4ffc-9162-6b5aae484932"
      },
      "execution_count": null,
      "outputs": [
        {
          "output_type": "stream",
          "name": "stdout",
          "text": [
            "{1: 'a', 2: 'b', 3: 'c', 4: 'd', 5: 'e', 6: 'f', 7: 'g', 8: 'h'}\n"
          ]
        }
      ]
    },
    {
      "cell_type": "code",
      "source": [
        "# ternary operator:\n",
        "x = 10\n",
        "\"positive\" if x >=10 else \"negative\""
      ],
      "metadata": {
        "colab": {
          "base_uri": "https://localhost:8080/",
          "height": 36
        },
        "id": "kQp_A9W0k75A",
        "outputId": "f22ef7b3-54a7-47fa-93ec-c97b8f6740ad"
      },
      "execution_count": null,
      "outputs": [
        {
          "output_type": "execute_result",
          "data": {
            "text/plain": [
              "'positive'"
            ],
            "application/vnd.google.colaboratory.intrinsic+json": {
              "type": "string"
            }
          },
          "metadata": {},
          "execution_count": 17
        }
      ]
    },
    {
      "cell_type": "code",
      "source": [
        "# Write a Python function to reverse a string.\n",
        "\n",
        "def reverse_string(input_text):\n",
        "\n",
        "  return input_text[::-1]\n",
        "\n",
        "print(reverse_string(\"we are learning\"))"
      ],
      "metadata": {
        "colab": {
          "base_uri": "https://localhost:8080/"
        },
        "id": "vvyzriJ1aDij",
        "outputId": "817ada52-d1cf-4916-d2c3-e3ec212e29c9"
      },
      "execution_count": 4,
      "outputs": [
        {
          "output_type": "stream",
          "name": "stdout",
          "text": [
            "gninrael era ew\n"
          ]
        }
      ]
    },
    {
      "cell_type": "code",
      "source": [
        "# Write a Python function to remove duplicates from a list.\n",
        "\n",
        "def remove_dupes(input_list):\n",
        "  return list(set(input_list))\n",
        "\n",
        "\n",
        "my_list = [1,2,3,2,3,5,2,6,6,7,8,3,5,3,6,2,13,1]\n",
        "print(remove_dupes(my_list))\n"
      ],
      "metadata": {
        "colab": {
          "base_uri": "https://localhost:8080/"
        },
        "id": "9gffrVC3arbr",
        "outputId": "dfc3c89c-8ab0-4f04-c37a-a6f4cfad704b"
      },
      "execution_count": 15,
      "outputs": [
        {
          "output_type": "stream",
          "name": "stdout",
          "text": [
            "[1, 2, 3, 5, 6, 7, 8, 13]\n"
          ]
        }
      ]
    }
  ]
}