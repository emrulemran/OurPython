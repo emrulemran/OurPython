{
  "nbformat": 4,
  "nbformat_minor": 0,
  "metadata": {
    "colab": {
      "provenance": [],
      "toc_visible": true,
      "authorship_tag": "ABX9TyPD4EofcWTa+CDA6WMTxZOS",
      "include_colab_link": true
    },
    "kernelspec": {
      "name": "python3",
      "display_name": "Python 3"
    },
    "language_info": {
      "name": "python"
    }
  },
  "cells": [
    {
      "cell_type": "markdown",
      "metadata": {
        "id": "view-in-github",
        "colab_type": "text"
      },
      "source": [
        "<a href=\"https://colab.research.google.com/github/emrulemran/OurPython/blob/main/Python_Demo.ipynb\" target=\"_parent\"><img src=\"https://colab.research.google.com/assets/colab-badge.svg\" alt=\"Open In Colab\"/></a>"
      ]
    },
    {
      "cell_type": "markdown",
      "source": [
        "#First Python Program"
      ],
      "metadata": {
        "id": "QrfDxWkAxP6l"
      }
    },
    {
      "cell_type": "code",
      "source": [
        "print(\"Hello World\")"
      ],
      "metadata": {
        "colab": {
          "base_uri": "https://localhost:8080/"
        },
        "id": "JLLtv_ABxYTU",
        "outputId": "25f824cd-62cf-46e0-f3df-4edf809cc5d9"
      },
      "execution_count": null,
      "outputs": [
        {
          "output_type": "stream",
          "name": "stdout",
          "text": [
            "Hello World\n"
          ]
        }
      ]
    },
    {
      "cell_type": "markdown",
      "source": [
        "#Printing  Variable"
      ],
      "metadata": {
        "id": "hyGdF8X4xrZk"
      }
    },
    {
      "cell_type": "markdown",
      "source": [
        "# Single variable"
      ],
      "metadata": {
        "id": "x92BlgC7yHh0"
      }
    },
    {
      "cell_type": "code",
      "source": [
        "name=\"Alam\"\n",
        "print(name)"
      ],
      "metadata": {
        "colab": {
          "base_uri": "https://localhost:8080/"
        },
        "id": "ojRAYNOZxtn1",
        "outputId": "e7752deb-2c18-4fae-de2c-b848950c98e8"
      },
      "execution_count": null,
      "outputs": [
        {
          "output_type": "stream",
          "name": "stdout",
          "text": [
            "Alam\n"
          ]
        }
      ]
    },
    {
      "cell_type": "markdown",
      "source": [
        "# Multiple Variables"
      ],
      "metadata": {
        "id": "siux5FTpyV-D"
      }
    },
    {
      "cell_type": "code",
      "source": [
        "name=\"Alam\"\n",
        "age=40\n",
        "job='IT'\n",
        "print(name,age,job)"
      ],
      "metadata": {
        "colab": {
          "base_uri": "https://localhost:8080/"
        },
        "id": "fSt8GvGpyXTU",
        "outputId": "062610bb-9f80-43f4-a5d7-2c97a354ae1c"
      },
      "execution_count": null,
      "outputs": [
        {
          "output_type": "stream",
          "name": "stdout",
          "text": [
            "Alam 40 IT\n"
          ]
        }
      ]
    },
    {
      "cell_type": "markdown",
      "source": [
        "# taking two inputs at a time"
      ],
      "metadata": {
        "id": "Lda3WeuHyzZ7"
      }
    },
    {
      "cell_type": "code",
      "source": [
        "x,y=input(\"Enter two values:\").split()\n",
        "print(\"Number of students:\",x)\n",
        "print(\"Number of teachers:\",y)\n",
        "\n"
      ],
      "metadata": {
        "colab": {
          "base_uri": "https://localhost:8080/"
        },
        "id": "MPeqOfVwzBxc",
        "outputId": "7861fff1-5a23-4cf6-b32b-a5afe6920281"
      },
      "execution_count": null,
      "outputs": [
        {
          "output_type": "stream",
          "name": "stdout",
          "text": [
            "Enter two values:10 5\n",
            "Number of students: 10\n",
            "Number of teachers: 5\n"
          ]
        }
      ]
    },
    {
      "cell_type": "code",
      "source": [
        "alam,sami, samad= 40, 8 ,2\n",
        "print(alam)\n",
        "print(sami)\n",
        "print(samad)"
      ],
      "metadata": {
        "id": "ltYqNnmo9fox",
        "colab": {
          "base_uri": "https://localhost:8080/"
        },
        "outputId": "23f7730c-fb4c-48be-b138-754883645054"
      },
      "execution_count": 2,
      "outputs": [
        {
          "output_type": "stream",
          "name": "stdout",
          "text": [
            "40\n",
            "8\n",
            "2\n"
          ]
        }
      ]
    },
    {
      "cell_type": "code",
      "source": [
        "salary =2000\n",
        "Salary2=1000\n",
        "\n",
        "print(salary + Salary2)\n"
      ],
      "metadata": {
        "colab": {
          "base_uri": "https://localhost:8080/"
        },
        "id": "UMgjfIOFo_O4",
        "outputId": "e2f58bda-6bc1-4a8c-af01-612c11e7e1cc"
      },
      "execution_count": 3,
      "outputs": [
        {
          "output_type": "stream",
          "name": "stdout",
          "text": [
            "3000\n"
          ]
        }
      ]
    },
    {
      "cell_type": "code",
      "source": [
        "F_Name=\"Mohammad \"\n",
        "L_Name=\"Alam\"\n",
        "print(F_Name +\" \" +L_Name)"
      ],
      "metadata": {
        "colab": {
          "base_uri": "https://localhost:8080/"
        },
        "id": "xEZknJdyuqRp",
        "outputId": "0e96d6ef-cfd2-4011-c805-dec7d9733518"
      },
      "execution_count": 4,
      "outputs": [
        {
          "output_type": "stream",
          "name": "stdout",
          "text": [
            "Mohammad  Alam\n"
          ]
        }
      ]
    },
    {
      "cell_type": "code",
      "source": [
        "print(\"Hello\" * 5)"
      ],
      "metadata": {
        "colab": {
          "base_uri": "https://localhost:8080/"
        },
        "id": "ZEEc8jTExOvt",
        "outputId": "3fc5a057-553b-418e-8956-48dd23f5c45a"
      },
      "execution_count": 5,
      "outputs": [
        {
          "output_type": "stream",
          "name": "stdout",
          "text": [
            "HelloHelloHelloHelloHello\n"
          ]
        }
      ]
    },
    {
      "cell_type": "code",
      "source": [
        "note=\"We are learning python\"\n",
        "print(note[0:6])"
      ],
      "metadata": {
        "colab": {
          "base_uri": "https://localhost:8080/"
        },
        "id": "jSx8hiEhyG-M",
        "outputId": "dfd15ff6-f027-4609-b3b7-8eaa6780660a"
      },
      "execution_count": 6,
      "outputs": [
        {
          "output_type": "stream",
          "name": "stdout",
          "text": [
            "We are\n"
          ]
        }
      ]
    },
    {
      "cell_type": "markdown",
      "source": [
        "#Place holders in strings"
      ],
      "metadata": {
        "id": "o8s2zl6LzSNU"
      }
    },
    {
      "cell_type": "code",
      "source": [
        "son=\"Sami\"\n",
        "print(son +\" is 8 years old\")"
      ],
      "metadata": {
        "colab": {
          "base_uri": "https://localhost:8080/"
        },
        "id": "7pTTb3vw0AZb",
        "outputId": "1731f7b0-e939-444e-8e2c-8ca828051b13"
      },
      "execution_count": 8,
      "outputs": [
        {
          "output_type": "stream",
          "name": "stdout",
          "text": [
            "Sami is 8 years old\n"
          ]
        }
      ]
    },
    {
      "cell_type": "code",
      "source": [
        "sentence= \"%s is %d years old\"   #qestion % d means integer??\n",
        "print(sentence % (\"Sami\", 8))"
      ],
      "metadata": {
        "colab": {
          "base_uri": "https://localhost:8080/"
        },
        "id": "aJ3uWf9ZzRQL",
        "outputId": "4a121f18-1f9a-4797-eedd-e47a14a42c29"
      },
      "execution_count": 10,
      "outputs": [
        {
          "output_type": "stream",
          "name": "stdout",
          "text": [
            "Sami is 8 years old\n"
          ]
        }
      ]
    },
    {
      "cell_type": "code",
      "source": [
        "name=\"Alam\"\n",
        "print(f\"Hello, {name}\")"
      ],
      "metadata": {
        "colab": {
          "base_uri": "https://localhost:8080/"
        },
        "id": "rD3kKwWOi0gt",
        "outputId": "ebe60222-3d1d-476a-ca84-1ff7411b6f90"
      },
      "execution_count": 1,
      "outputs": [
        {
          "output_type": "stream",
          "name": "stdout",
          "text": [
            "Hello, Alam\n"
          ]
        }
      ]
    },
    {
      "cell_type": "markdown",
      "source": [
        "#List"
      ],
      "metadata": {
        "id": "gw8FqHeJj9-2"
      }
    },
    {
      "cell_type": "code",
      "source": [
        "fruits_list=['mango','bananas','cheese']\n",
        "print(fruits_list[-1])"
      ],
      "metadata": {
        "colab": {
          "base_uri": "https://localhost:8080/"
        },
        "id": "6kaYyVV4kBOg",
        "outputId": "d92a5bbe-1913-494f-d842-0082fff74b7b"
      },
      "execution_count": 3,
      "outputs": [
        {
          "output_type": "stream",
          "name": "stdout",
          "text": [
            "cheese\n"
          ]
        }
      ]
    },
    {
      "cell_type": "code",
      "source": [
        "fruits_list.append('apple')\n",
        "print(fruits_list)"
      ],
      "metadata": {
        "colab": {
          "base_uri": "https://localhost:8080/"
        },
        "id": "4fIqeTovz0VM",
        "outputId": "e5973a82-708b-4600-ddd5-09f64999e786"
      },
      "execution_count": 4,
      "outputs": [
        {
          "output_type": "stream",
          "name": "stdout",
          "text": [
            "['mango', 'bananas', 'cheese', 'apple']\n"
          ]
        }
      ]
    },
    {
      "cell_type": "code",
      "source": [
        "fruits_list[0]='cherries'\n",
        "print(fruits_list)"
      ],
      "metadata": {
        "colab": {
          "base_uri": "https://localhost:8080/"
        },
        "id": "NSXb9yNJ0nmu",
        "outputId": "89c79ddf-480c-44a1-fab7-dce30d032df4"
      },
      "execution_count": 5,
      "outputs": [
        {
          "output_type": "stream",
          "name": "stdout",
          "text": [
            "['cherries', 'bananas', 'cheese', 'apple']\n"
          ]
        }
      ]
    },
    {
      "cell_type": "code",
      "source": [
        "del fruits_list[0]\n",
        "print(fruits_list)"
      ],
      "metadata": {
        "colab": {
          "base_uri": "https://localhost:8080/"
        },
        "id": "q-tI3fQO6Zz2",
        "outputId": "9287427b-f4ba-4248-c19b-3b0139e70a0a"
      },
      "execution_count": 6,
      "outputs": [
        {
          "output_type": "stream",
          "name": "stdout",
          "text": [
            "['bananas', 'cheese', 'apple']\n"
          ]
        }
      ]
    }
  ]
}