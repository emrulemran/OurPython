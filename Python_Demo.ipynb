{
  "nbformat": 4,
  "nbformat_minor": 0,
  "metadata": {
    "colab": {
      "provenance": [],
      "toc_visible": true,
      "include_colab_link": true
    },
    "kernelspec": {
      "name": "python3",
      "display_name": "Python 3"
    },
    "language_info": {
      "name": "python"
    }
  },
  "cells": [
    {
      "cell_type": "markdown",
      "metadata": {
        "id": "view-in-github",
        "colab_type": "text"
      },
      "source": [
        "<a href=\"https://colab.research.google.com/github/emrulemran/OurPython/blob/main/Python_Demo.ipynb\" target=\"_parent\"><img src=\"https://colab.research.google.com/assets/colab-badge.svg\" alt=\"Open In Colab\"/></a>"
      ]
    },
    {
      "cell_type": "markdown",
      "source": [
        "#First Python Program"
      ],
      "metadata": {
        "id": "QrfDxWkAxP6l"
      }
    },
    {
      "cell_type": "code",
      "source": [
        "print(\"Hello World\")"
      ],
      "metadata": {
        "colab": {
          "base_uri": "https://localhost:8080/"
        },
        "id": "JLLtv_ABxYTU",
        "outputId": "25f824cd-62cf-46e0-f3df-4edf809cc5d9"
      },
      "execution_count": null,
      "outputs": [
        {
          "output_type": "stream",
          "name": "stdout",
          "text": [
            "Hello World\n"
          ]
        }
      ]
    },
    {
      "cell_type": "markdown",
      "source": [
        "#Printing  Variable"
      ],
      "metadata": {
        "id": "hyGdF8X4xrZk"
      }
    },
    {
      "cell_type": "markdown",
      "source": [
        "# Single variable"
      ],
      "metadata": {
        "id": "x92BlgC7yHh0"
      }
    },
    {
      "cell_type": "code",
      "source": [
        "name=\"Alam\"\n",
        "print(name)"
      ],
      "metadata": {
        "colab": {
          "base_uri": "https://localhost:8080/"
        },
        "id": "ojRAYNOZxtn1",
        "outputId": "e7752deb-2c18-4fae-de2c-b848950c98e8"
      },
      "execution_count": null,
      "outputs": [
        {
          "output_type": "stream",
          "name": "stdout",
          "text": [
            "Alam\n"
          ]
        }
      ]
    },
    {
      "cell_type": "markdown",
      "source": [
        "# Multiple Variables"
      ],
      "metadata": {
        "id": "siux5FTpyV-D"
      }
    },
    {
      "cell_type": "code",
      "source": [
        "name=\"Alam\"\n",
        "age=40\n",
        "job='IT'\n",
        "print(name,age,job)"
      ],
      "metadata": {
        "colab": {
          "base_uri": "https://localhost:8080/"
        },
        "id": "fSt8GvGpyXTU",
        "outputId": "062610bb-9f80-43f4-a5d7-2c97a354ae1c"
      },
      "execution_count": null,
      "outputs": [
        {
          "output_type": "stream",
          "name": "stdout",
          "text": [
            "Alam 40 IT\n"
          ]
        }
      ]
    },
    {
      "cell_type": "markdown",
      "source": [
        "# taking two inputs at a time"
      ],
      "metadata": {
        "id": "Lda3WeuHyzZ7"
      }
    },
    {
      "cell_type": "code",
      "source": [
        "x,y=input(\"Enter two values:\").split()\n",
        "print(\"Number of students:\",x)\n",
        "print(\"Number of teachers:\",y)\n",
        "\n"
      ],
      "metadata": {
        "colab": {
          "base_uri": "https://localhost:8080/"
        },
        "id": "MPeqOfVwzBxc",
        "outputId": "7861fff1-5a23-4cf6-b32b-a5afe6920281"
      },
      "execution_count": null,
      "outputs": [
        {
          "output_type": "stream",
          "name": "stdout",
          "text": [
            "Enter two values:10 5\n",
            "Number of students: 10\n",
            "Number of teachers: 5\n"
          ]
        }
      ]
    },
    {
      "cell_type": "code",
      "source": [
        "# declaring a list:\n",
        "my_num_list = [1,2,3,4,5,6,7,8,9,10]\n",
        "\n",
        "print(my_num_list)"
      ],
      "metadata": {
        "id": "s82rwRai80y0",
        "outputId": "22d079d5-d93b-4473-ab17-635a7c143c00",
        "colab": {
          "base_uri": "https://localhost:8080/"
        }
      },
      "execution_count": 1,
      "outputs": [
        {
          "output_type": "stream",
          "name": "stdout",
          "text": [
            "[1, 2, 3, 4, 5, 6, 7, 8, 9, 10]\n"
          ]
        }
      ]
    }
  ]
}