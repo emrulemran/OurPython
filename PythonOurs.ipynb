{
  "nbformat": 4,
  "nbformat_minor": 0,
  "metadata": {
    "colab": {
      "provenance": [],
      "toc_visible": true,
      "authorship_tag": "ABX9TyNx3KoRS/z3KSE6NXfNpE/E",
      "include_colab_link": true
    },
    "kernelspec": {
      "name": "python3",
      "display_name": "Python 3"
    },
    "language_info": {
      "name": "python"
    }
  },
  "cells": [
    {
      "cell_type": "markdown",
      "metadata": {
        "id": "view-in-github",
        "colab_type": "text"
      },
      "source": [
        "<a href=\"https://colab.research.google.com/github/emrulemran/OurPython/blob/main/PythonOurs.ipynb\" target=\"_parent\"><img src=\"https://colab.research.google.com/assets/colab-badge.svg\" alt=\"Open In Colab\"/></a>"
      ]
    },
    {
      "cell_type": "code",
      "execution_count": null,
      "metadata": {
        "colab": {
          "base_uri": "https://localhost:8080/"
        },
        "id": "2nVucMmw9Hfa",
        "outputId": "f94f538c-45eb-41b9-ff11-d358874695fb"
      },
      "outputs": [
        {
          "output_type": "stream",
          "name": "stdout",
          "text": [
            "Cloning into 'OurPython'...\n",
            "remote: Enumerating objects: 3, done.\u001b[K\n",
            "remote: Counting objects: 100% (3/3), done.\u001b[K\n",
            "remote: Total 3 (delta 0), reused 0 (delta 0), pack-reused 0 (from 0)\u001b[K\n",
            "Receiving objects: 100% (3/3), done.\n"
          ]
        }
      ],
      "source": [
        "!git clone https://github.com/emrulemran/OurPython.git"
      ]
    },
    {
      "cell_type": "code",
      "source": [
        "x = 25\n",
        "y = 10\n",
        "\n",
        "print(x * y)"
      ],
      "metadata": {
        "colab": {
          "base_uri": "https://localhost:8080/"
        },
        "id": "6QVPICgG-olO",
        "outputId": "8744ae48-63dc-4c2b-cc86-a729a20d7d83"
      },
      "execution_count": null,
      "outputs": [
        {
          "output_type": "stream",
          "name": "stdout",
          "text": [
            "250\n"
          ]
        }
      ]
    },
    {
      "cell_type": "code",
      "source": [
        "import math\n",
        "n = 3.7\n",
        "floor_num = math.floor(n)\n",
        "print('The floor number is', floor_num)\n",
        "\n",
        "ceil_num = math.ceil(n)\n",
        "print('The ceil number is', floor_num)"
      ],
      "metadata": {
        "colab": {
          "base_uri": "https://localhost:8080/"
        },
        "id": "lUw7SGoJ9VCI",
        "outputId": "16841feb-0acd-4263-e558-7772437e49ab"
      },
      "execution_count": null,
      "outputs": [
        {
          "output_type": "stream",
          "name": "stdout",
          "text": [
            "The floor number is 3\n",
            "The ceil number is 3\n"
          ]
        }
      ]
    },
    {
      "cell_type": "code",
      "source": [
        "# lambda example:\n",
        "\n",
        "lambda_func = lambda x, y : x *y\n",
        "\n",
        "print(lambda_func(5, 6))"
      ],
      "metadata": {
        "colab": {
          "base_uri": "https://localhost:8080/"
        },
        "id": "XIKZwf3FA9u_",
        "outputId": "4876d8d6-dc4f-457e-b266-a6e5eeb01776"
      },
      "execution_count": null,
      "outputs": [
        {
          "output_type": "stream",
          "name": "stdout",
          "text": [
            "30\n"
          ]
        }
      ]
    },
    {
      "cell_type": "code",
      "source": [
        "# defining a function to get the length of a string:\n",
        "\n",
        "def getLength(input):\n",
        "  return len(input)\n",
        "\n",
        "\n",
        "\n",
        "print(getLength(\"we are learning\"))"
      ],
      "metadata": {
        "colab": {
          "base_uri": "https://localhost:8080/"
        },
        "id": "f46NRw-c4Wls",
        "outputId": "4aeafc77-6dea-40c6-f8e0-5f39500991e8"
      },
      "execution_count": 1,
      "outputs": [
        {
          "output_type": "stream",
          "name": "stdout",
          "text": [
            "15\n"
          ]
        }
      ]
    },
    {
      "cell_type": "code",
      "source": [],
      "metadata": {
        "id": "h1LembEL5rix"
      },
      "execution_count": null,
      "outputs": []
    }
  ]
}