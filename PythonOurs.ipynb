{
  "nbformat": 4,
  "nbformat_minor": 0,
  "metadata": {
    "colab": {
      "provenance": [],
      "authorship_tag": "ABX9TyN/jg4zcVJeDhwBJsphEJZJ",
      "include_colab_link": true
    },
    "kernelspec": {
      "name": "python3",
      "display_name": "Python 3"
    },
    "language_info": {
      "name": "python"
    }
  },
  "cells": [
    {
      "cell_type": "markdown",
      "metadata": {
        "id": "view-in-github",
        "colab_type": "text"
      },
      "source": [
        "<a href=\"https://colab.research.google.com/github/emrulemran/OurPython/blob/main/PythonOurs.ipynb\" target=\"_parent\"><img src=\"https://colab.research.google.com/assets/colab-badge.svg\" alt=\"Open In Colab\"/></a>"
      ]
    },
    {
      "cell_type": "code",
      "execution_count": null,
      "metadata": {
        "colab": {
          "base_uri": "https://localhost:8080/"
        },
        "id": "2nVucMmw9Hfa",
        "outputId": "f94f538c-45eb-41b9-ff11-d358874695fb"
      },
      "outputs": [
        {
          "output_type": "stream",
          "name": "stdout",
          "text": [
            "Cloning into 'OurPython'...\n",
            "remote: Enumerating objects: 3, done.\u001b[K\n",
            "remote: Counting objects: 100% (3/3), done.\u001b[K\n",
            "remote: Total 3 (delta 0), reused 0 (delta 0), pack-reused 0 (from 0)\u001b[K\n",
            "Receiving objects: 100% (3/3), done.\n"
          ]
        }
      ],
      "source": [
        "!git clone https://github.com/emrulemran/OurPython.git"
      ]
    },
    {
      "cell_type": "markdown",
      "source": [
        "Trust me, You don't need to learn Python more than this for a Data Engineering role\n",
        "\n",
        "➊ List Comprehensions and Dict Comprehensions\n",
        "↳ Optimize iteration with one-liners\n",
        "↳ Fast filtering and transformations\n",
        "↳ O(n) time complexity\n",
        "\n",
        "➋ Lambda Functions\n",
        "↳ Anonymous functions for concise operations\n",
        "↳ Used in map(), filter(), and sort()\n",
        "↳ Key for functional programming\n",
        "\n",
        "➌ Functional Programming (map, filter, reduce)\n",
        "↳ Apply transformations efficiently\n",
        "↳ Reduce dataset size dynamically\n",
        "↳ Avoid unnecessary loops\n",
        "\n",
        "➍ Iterators and Generators\n",
        "↳ Efficient memory handling with yield\n",
        "↳ Streaming large datasets\n",
        "↳ Lazy evaluation for performance\n",
        "\n",
        "➎ Error Handling with Try-Except\n",
        "↳ Graceful failure handling\n",
        "↳ Preventing crashes in pipelines\n",
        "↳ Custom exception classes\n",
        "\n",
        "➏ Regex for Data Cleaning\n",
        "↳ Extract structured data from unstructured text\n",
        "↳ Pattern matching for text processing\n",
        "↳ Optimized with re.compile()\n",
        "\n",
        "➐ File Handling (CSV, JSON, Parquet)\n",
        "↳ Read and write structured data efficiently\n",
        "↳ pandas.read_csv(), json.load(), pyarrow\n",
        "↳ Handling large files in chunks\n",
        "\n",
        "➑ Handling Missing Data\n",
        "↳ .fillna(), .dropna(), .interpolate()\n",
        "↳ Imputing missing values\n",
        "↳ Reducing nulls for better analytics\n",
        "\n",
        "➒ Pandas Operations\n",
        "↳ DataFrame filtering and aggregations\n",
        "↳ .groupby(), .pivot_table(), .merge()\n",
        "↳ Handling large structured datasets\n",
        "\n",
        "➓ SQL Queries in Python\n",
        "↳ Using sqlalchemy and pandas.read_sql()\n",
        "↳ Writing optimized queries\n",
        "↳ Connecting to databases\n",
        "\n",
        "⓫ Working with APIs\n",
        "↳ Fetching data with requests and httpx\n",
        "↳ Handling rate limits and retries\n",
        "↳ Parsing JSON/XML responses\n",
        "\n",
        "⓬ Cloud Data Handling (AWS S3, Google Cloud, Azure)\n",
        "↳ Upload/download data from cloud storage\n",
        "↳ boto3, gcsfs, azure-storage\n",
        "↳ Handling large-scale data ingestion\n",
        "\n",
        "𝐓𝐡𝐞 𝐛𝐞𝐬𝐭 𝐰𝐚𝐲 𝐭𝐨 𝐥𝐞𝐚𝐫𝐧 𝐏𝐲𝐭𝐡𝐨𝐧 𝐢𝐬 𝐧𝐨𝐭 𝐣𝐮𝐬𝐭 𝐛𝐲 𝐬𝐭𝐮𝐝𝐲𝐢𝐧𝐠, 𝐛𝐮𝐭 𝐛𝐲 𝐢𝐦𝐩𝐥𝐞𝐦𝐞𝐧𝐭𝐢𝐧𝐠 𝐢𝐭"
      ],
      "metadata": {
        "id": "9dIYbDcNLUC7"
      }
    },
    {
      "cell_type": "code",
      "source": [
        "x = 25\n",
        "y = 10\n",
        "\n",
        "print(x * y)"
      ],
      "metadata": {
        "colab": {
          "base_uri": "https://localhost:8080/"
        },
        "id": "6QVPICgG-olO",
        "outputId": "8744ae48-63dc-4c2b-cc86-a729a20d7d83"
      },
      "execution_count": null,
      "outputs": [
        {
          "output_type": "stream",
          "name": "stdout",
          "text": [
            "250\n"
          ]
        }
      ]
    },
    {
      "cell_type": "code",
      "source": [
        "import math\n",
        "n = 3.7\n",
        "floor_num = math.floor(n)\n",
        "print('The floor number is', floor_num)\n",
        "\n",
        "ceil_num = math.ceil(n)\n",
        "print('The ceil number is', floor_num)"
      ],
      "metadata": {
        "colab": {
          "base_uri": "https://localhost:8080/"
        },
        "id": "lUw7SGoJ9VCI",
        "outputId": "16841feb-0acd-4263-e558-7772437e49ab"
      },
      "execution_count": null,
      "outputs": [
        {
          "output_type": "stream",
          "name": "stdout",
          "text": [
            "The floor number is 3\n",
            "The ceil number is 3\n"
          ]
        }
      ]
    },
    {
      "cell_type": "code",
      "source": [
        "# lambda example:\n",
        "\n",
        "lambda_func = lambda x, y : x *y\n",
        "\n",
        "print(lambda_func(5, 6))"
      ],
      "metadata": {
        "colab": {
          "base_uri": "https://localhost:8080/"
        },
        "id": "XIKZwf3FA9u_",
        "outputId": "4876d8d6-dc4f-457e-b266-a6e5eeb01776"
      },
      "execution_count": null,
      "outputs": [
        {
          "output_type": "stream",
          "name": "stdout",
          "text": [
            "30\n"
          ]
        }
      ]
    },
    {
      "cell_type": "code",
      "source": [
        "# defining a function to get the length of a string:\n",
        "\n",
        "def getLength(input):\n",
        "  return len(input)\n",
        "\n",
        "\n",
        "\n",
        "print(getLength(\"we are learning\"))"
      ],
      "metadata": {
        "colab": {
          "base_uri": "https://localhost:8080/"
        },
        "id": "f46NRw-c4Wls",
        "outputId": "4aeafc77-6dea-40c6-f8e0-5f39500991e8"
      },
      "execution_count": null,
      "outputs": [
        {
          "output_type": "stream",
          "name": "stdout",
          "text": [
            "15\n"
          ]
        }
      ]
    },
    {
      "cell_type": "code",
      "source": [
        "#   % modulus or modulo\n",
        "\n",
        "lst = [1,23, 54,45,5, 65,32,5, 6,7, 6,88, 98,3,8, 9,34,77, 8,12]\n",
        "\n",
        "for x in lst:\n",
        "  if x%2 == 0:\n",
        "    print(x)\n",
        "\n",
        "\n",
        "\n",
        "\n",
        "lst1 ={x for x in range(5,10, 2)}\n",
        "print(type(lst1))\n",
        "\n",
        "print(lst1)"
      ],
      "metadata": {
        "id": "h1LembEL5rix",
        "colab": {
          "base_uri": "https://localhost:8080/"
        },
        "outputId": "00a7b4f3-c462-4fa6-dfbf-5396f369ff21"
      },
      "execution_count": null,
      "outputs": [
        {
          "output_type": "stream",
          "name": "stdout",
          "text": [
            "54\n",
            "32\n",
            "6\n",
            "6\n",
            "88\n",
            "98\n",
            "8\n",
            "34\n",
            "8\n",
            "12\n",
            "<class 'set'>\n",
            "{9, 5, 7}\n"
          ]
        }
      ]
    },
    {
      "cell_type": "code",
      "source": [
        "# Generator class and Decorator class\n",
        "\n",
        "A Python generator function allows you to declare a function that behaves like an iterator, providing a faster and easier way to create iterators.\n",
        "\n",
        "A decorator is essentially a function that takes another function as an argument, extends its behavior, and returns the modified function. The\n"
      ],
      "metadata": {
        "id": "0KQ0Gu3ELhxc"
      },
      "execution_count": null,
      "outputs": []
    },
    {
      "cell_type": "code",
      "source": [
        "dict1 ={x, y for x , y  in range(5,10, 2)}\n",
        "print(type(lst1))"
      ],
      "metadata": {
        "id": "4E_vnOYfMmnA"
      },
      "execution_count": null,
      "outputs": []
    },
    {
      "cell_type": "code",
      "source": [
        "# Python Class:\n",
        "# Everything in Python is an object. To create objects we need some Model or Plan or Blue print, which is nothing but class.\n",
        "# Class contains properties (attributes) and actions (behaviour) of object.\n",
        "# Properties can be represented by variables and Actions can be represented by Methods.\n",
        "\n",
        "\n",
        "class myClass:\n",
        "  pass\n",
        "\n",
        "class Student:\n",
        "  ''' This is student class with required data'''\n",
        "print(Student.__doc__)\n",
        "help(Student)\n"
      ],
      "metadata": {
        "id": "escQ3FHfM51N",
        "colab": {
          "base_uri": "https://localhost:8080/"
        },
        "outputId": "359aa485-4ed4-4266-86a0-716f83045318"
      },
      "execution_count": null,
      "outputs": [
        {
          "output_type": "stream",
          "name": "stdout",
          "text": [
            " This is student class with required data\n",
            "Help on class Student in module __main__:\n",
            "\n",
            "class Student(builtins.object)\n",
            " |  This is student class with required data\n",
            " |  \n",
            " |  Data descriptors defined here:\n",
            " |  \n",
            " |  __dict__\n",
            " |      dictionary for instance variables\n",
            " |  \n",
            " |  __weakref__\n",
            " |      list of weak references to the object\n",
            "\n"
          ]
        }
      ]
    },
    {
      "cell_type": "code",
      "source": [
        "# Python has 3 types of variables: Instance or Object-Level Variables, Static or Class Level Variables and  Local or Method Level Variables\n"
      ],
      "metadata": {
        "id": "zYXUtXYjZAQw"
      },
      "execution_count": null,
      "outputs": []
    },
    {
      "cell_type": "code",
      "source": [
        "# Python RegEx for Data Engineers;\n",
        "\n",
        "import re\n",
        "\n",
        "text = \"Data science is cool as you get to work with real-world data. Data is everywhere and data is the fuel of 4th industrial revolution\"\n",
        "matches = re.findall(r\"data\", text) # finds lower case 'data' only and returns in the form of a list\n",
        "print(matches)\n",
        "print(type(matches))"
      ],
      "metadata": {
        "colab": {
          "base_uri": "https://localhost:8080/"
        },
        "id": "6IISWwhDPu6A",
        "outputId": "8053853e-08d0-4be4-9610-0a9c30ee90c6"
      },
      "execution_count": null,
      "outputs": [
        {
          "output_type": "stream",
          "name": "stdout",
          "text": [
            "['data', 'data']\n",
            "<class 'list'>\n"
          ]
        }
      ]
    },
    {
      "cell_type": "code",
      "source": [
        "# find 'data' ignoring case:\n",
        "matches = re.findall(r\"data\", text, re.IGNORECASE)\n",
        "print(matches)  # returns a list of Data and data"
      ],
      "metadata": {
        "colab": {
          "base_uri": "https://localhost:8080/"
        },
        "id": "CNtRV8bhQ4Rw",
        "outputId": "9f71c91a-0665-413d-f3a4-36d076eadf05"
      },
      "execution_count": null,
      "outputs": [
        {
          "output_type": "stream",
          "name": "stdout",
          "text": [
            "['Data', 'data', 'Data', 'data']\n"
          ]
        }
      ]
    },
    {
      "cell_type": "code",
      "source": [
        "# Metacharacters: Beyond Literal Matching\n",
        "\n",
        "# 1: The Wildcard: The Dot (.) matches any character except a newline\n",
        "\n",
        "\n",
        "input_text1 = \"The cat sat on the mat. The bat flew over the rat. the Mat and the hat\"\n",
        "pattern = r\"The ... \"\n",
        "matches = re.findall(pattern, input_text1)\n",
        "print(matches)\n",
        "\n",
        "\n",
        "# ignore case:\n",
        "input_text2 = \"The cat sat on the mat. The bat flew over the rat. The mat and the hat\"\n",
        "pattern1 = r\"The ... \"\n",
        "matches1 = re.findall(pattern1, input_text2, re.IGNORECASE)\n",
        "print(matches1)\n",
        "\n"
      ],
      "metadata": {
        "colab": {
          "base_uri": "https://localhost:8080/"
        },
        "id": "rzwe3NCcTGG7",
        "outputId": "a64623db-cf12-4fe2-b499-fdda25dcbf19"
      },
      "execution_count": null,
      "outputs": [
        {
          "output_type": "stream",
          "name": "stdout",
          "text": [
            "['The cat ', 'The bat ']\n",
            "['The cat ', 'The bat ', 'The mat ']\n"
          ]
        }
      ]
    },
    {
      "cell_type": "code",
      "source": [
        "# 2: Character Classes: Getting Specific with []. Character classes let you define a set of characters to match:\n",
        "\n",
        "text = \"The fat cat sat on the mat. The bat flew over the rat and the hat.\"\n",
        "pattern = r\"[cbmfh]at\"  # any character in the set [cb] followed by \"at\n",
        "matches = re.findall(pattern, text)\n",
        "\n",
        "print(matches)"
      ],
      "metadata": {
        "colab": {
          "base_uri": "https://localhost:8080/"
        },
        "id": "JFkSMzfhUfl7",
        "outputId": "d6536ba6-45ef-47b6-a01b-cbee6d008056"
      },
      "execution_count": null,
      "outputs": [
        {
          "output_type": "stream",
          "name": "stdout",
          "text": [
            "['fat', 'cat', 'mat', 'bat', 'hat']\n"
          ]
        }
      ]
    },
    {
      "cell_type": "code",
      "source": [
        "# Find all lowercase words that starts with a-d and any letter afterwards\n",
        "\n",
        "pattern = r\"\\b[a-d][a-z]*\\b\"   #  \\b represents a word boundary\n",
        "text = \"apple banana cherry date elephant fig grape kiwi lemon mango orange\"\n",
        "matches = re.findall(pattern, text)\n",
        "print(matches)"
      ],
      "metadata": {
        "colab": {
          "base_uri": "https://localhost:8080/"
        },
        "id": "LAAwzCmTZnML",
        "outputId": "6dee6113-52e8-4043-f32a-a2d8c933027f"
      },
      "execution_count": null,
      "outputs": [
        {
          "output_type": "stream",
          "name": "stdout",
          "text": [
            "['apple', 'banana', 'cherry', 'date']\n"
          ]
        }
      ]
    },
    {
      "cell_type": "code",
      "source": [
        "# Find all lowercase words that doesn't start with a-d and any letter afterwards ???\n",
        "\n",
        "\n",
        "patternz = r\"\\b[^a-dA-D\\s][a-z]*\\b\"  # Match words not starting with a-d or A-D\n",
        "textz = \"apple banana cherry date elephant fig grape kiwi lemon mango orange\"\n",
        "matchz = re.findall(pattern, text)\n",
        "print(matchz)"
      ],
      "metadata": {
        "colab": {
          "base_uri": "https://localhost:8080/"
        },
        "id": "xzjyKh1wap5w",
        "outputId": "14a17827-ff58-4d34-bb79-7cc470456d13"
      },
      "execution_count": null,
      "outputs": [
        {
          "output_type": "stream",
          "name": "stdout",
          "text": [
            "[' banana', ' cherry', ' date', ' elephant', ' fig', ' grape', ' kiwi', ' lemon', ' mango', ' orange']\n"
          ]
        }
      ]
    },
    {
      "cell_type": "code",
      "source": [
        "# Quantifiers: Specifying Repetition\n",
        "# Often, you'll want to match a pattern that repeats. Quantifiers let you specify how many times a character or group should appear. Let's find all phone numbers, whether they use hyphens or not:\n",
        "\n",
        "phone_numbers = \"Phone numbers: 555-1234-1111, 555-5678-1112, 5551234-1123\"\n",
        "pattern = r\"\\b\\d{3}-\\d{4}-\\d{4}\\b\"  # \\d{3} matches exactly 3 digits  -? matches zero or one hyphen (the ? makes the hyphen optional)\n",
        "matches = re.findall(pattern, phone_numbers)\n",
        "print(matches)\n",
        "\n"
      ],
      "metadata": {
        "colab": {
          "base_uri": "https://localhost:8080/"
        },
        "id": "Qh73l3NJcU_g",
        "outputId": "88ff109e-d336-4e0e-a2fc-6a775f61ff34"
      },
      "execution_count": null,
      "outputs": [
        {
          "output_type": "stream",
          "name": "stdout",
          "text": [
            "['555-1234-1111', '555-5678-1112']\n"
          ]
        }
      ]
    },
    {
      "cell_type": "code",
      "source": [
        "# Anchors: Finding Patterns at Specific Positions: ^ denotes start point and \\.$ marks the end point\n",
        "\n",
        "text = \"Python is popular in data science.\"\n",
        "\n",
        "# ^ anchors to the start of the string\n",
        "start_matches = re.findall(r\"^Python\", text)\n",
        "print(start_matches)\n",
        "\n",
        "# $ anchors to the end of the string\n",
        "end_matches = re.findall(r\"science\\.$\", text)\n",
        "print(end_matches)\n",
        "\n",
        "# Anchors don't match characters; they match positions.\n",
        "# This is useful for validating formats like email addresses, where specific elements must appear at the beginning or end."
      ],
      "metadata": {
        "colab": {
          "base_uri": "https://localhost:8080/"
        },
        "id": "ApMHugZ8dD9O",
        "outputId": "9cc8fb12-7c90-4cd7-f7f8-70883d4ea7b6"
      },
      "execution_count": null,
      "outputs": [
        {
          "output_type": "stream",
          "name": "stdout",
          "text": [
            "['Python']\n",
            "['science.']\n"
          ]
        }
      ]
    },
    {
      "cell_type": "code",
      "source": [
        "# Capturing Groups: Extracting Specific Parts\n",
        "text = \"Dates: 2023-10-15, 2022-05-22\"\n",
        "pattern = r\"(\\d{4})-(\\d{2})-(\\d{2})\"\n",
        "\n",
        "# findall returns tuples of the captured groups\n",
        "matches = re.findall(pattern, text)\n",
        "print(matches)\n",
        "\n",
        "# You can use these to create structured data\n",
        "for year, month, day in matches:\n",
        "    print(f\"Year: {year}, Month: {month}, Day: {day}\")\n",
        "\n",
        "    # This is especially helpful in extracting structured information from unstructured text, a common task in data science."
      ],
      "metadata": {
        "colab": {
          "base_uri": "https://localhost:8080/"
        },
        "id": "5IdSxnx5dtYN",
        "outputId": "303d816c-4269-4c95-b33d-c81cfc9dff07"
      },
      "execution_count": null,
      "outputs": [
        {
          "output_type": "stream",
          "name": "stdout",
          "text": [
            "[('2023', '10', '15'), ('2022', '05', '22')]\n",
            "Year: 2023, Month: 10, Day: 15\n",
            "Year: 2022, Month: 05, Day: 22\n"
          ]
        }
      ]
    },
    {
      "cell_type": "code",
      "source": [
        "# Named Groups: Making Your Regex More Readable\n",
        "text = \"Contact: john.doe@example.com\"\n",
        "pattern = r\"(?P<username>[\\w.]+)@(?P<domain>[\\w.]+)\"  # (?P<username>...) is a named capturing group\n",
        "\n",
        "match_ = re.search(pattern, text)\n",
        "if match_:\n",
        "    print(f\"Username: {match_.group('username')}\")\n",
        "    print(f\"Domain: {match_.group('domain')}\")"
      ],
      "metadata": {
        "colab": {
          "base_uri": "https://localhost:8080/"
        },
        "id": "_fcbyGEYeYAs",
        "outputId": "84ebb5f2-2519-498b-8697-85b04214bf42"
      },
      "execution_count": null,
      "outputs": [
        {
          "output_type": "stream",
          "name": "stdout",
          "text": [
            "Username: john.doe\n",
            "Domain: example.com\n"
          ]
        }
      ]
    },
    {
      "cell_type": "code",
      "source": [
        "# Cleaning Messy DataSuppose you have a dataset with inconsistent product codes:\n",
        "\n",
        "product_codes = [\n",
        "    \"PROD-123\",\n",
        "    \"Product 456\",\n",
        "    \"prod_789\",\n",
        "    \"PR-101\",\n",
        "    \"p-202\"\n",
        "]\n",
        "\n",
        "\n",
        "cleaned_codes = []\n",
        "for code in product_codes:\n",
        "  match = re.search(r\"\\d+\", code)\n",
        "  if match:\n",
        "    cleaned_codes.append(match.group())\n",
        "\n",
        "print(cleaned_codes)\n",
        "\n",
        "for p_code in cleaned_codes:\n",
        "  print(p_code)"
      ],
      "metadata": {
        "colab": {
          "base_uri": "https://localhost:8080/"
        },
        "id": "yi7aAwBXgPKa",
        "outputId": "37aae0eb-8af4-4679-8b12-f42f52dd812e"
      },
      "execution_count": null,
      "outputs": [
        {
          "output_type": "stream",
          "name": "stdout",
          "text": [
            "['123', '456', '789', '101', '202']\n",
            "123\n",
            "456\n",
            "789\n",
            "101\n",
            "202\n"
          ]
        }
      ]
    },
    {
      "cell_type": "code",
      "source": [
        "# Extracting Information from Text\n",
        "\n",
        "log = \"ISSUE #1234 [2023-10-15] Customer reported app crash on iPhone 12, iOS 15.2\"\n",
        "\n",
        "# Extract issue number, date, device, and OS version\n",
        "\n",
        "pattern = r\"ISSUE #(\\d+) \\[(\\d{4}-\\d{2}-\\d{2})\\].*?(iPhone \\d+).*?(iOS \\d+\\.\\d+)\"\n",
        "\n",
        "#  \\[ and \\] match the literal square brackets [ and ], respectively\n",
        "#   *? ensures that it skips over any characters (including spaces, alphanumeric characters, etc.)\n",
        "\n",
        "match = re.search(pattern, log)\n",
        "\n",
        "if match:\n",
        "    issue_num, date, device, ios_version = match.groups()\n",
        "    print(f\"Issue: {issue_num}\")\n",
        "    print(f\"Date: {date}\")\n",
        "    print(f\"Device: {device}\")\n",
        "    print(f\"iOS Version: {ios_version}\")"
      ],
      "metadata": {
        "colab": {
          "base_uri": "https://localhost:8080/"
        },
        "id": "7SY8nu--hmiS",
        "outputId": "1f444fe9-c6c1-4309-962d-162da3218173"
      },
      "execution_count": null,
      "outputs": [
        {
          "output_type": "stream",
          "name": "stdout",
          "text": [
            "Issue: 1234\n",
            "Date: 2023-10-15\n",
            "Device: iPhone 12\n",
            "iOS Version: iOS 15.2\n"
          ]
        }
      ]
    },
    {
      "cell_type": "code",
      "source": [
        "# Data Validation - Regular expressions are useful for validating data formats:\n",
        "\n",
        "def validate_email(email):\n",
        "    \"\"\"Validate email format with explanation of what makes it valid or invalid.\"\"\"\n",
        "    pattern = r\"^[\\w.%+-]+@[A-Za-z0-9.-]+\\.[A-Za-z]{2,}$\"\n",
        "\n",
        "    if not re.match(pattern, email):\n",
        "        # Let's check specific issues\n",
        "        if '@' not in email:\n",
        "            return False, \"Missing @ symbol\"\n",
        "\n",
        "        username, domain = email.split('@', 1)\n",
        "        if not username:\n",
        "            return False, \"Username is empty\"\n",
        "\n",
        "        if '.' not in domain:\n",
        "            return False, \"Invalid domain (missing top-level domain)\"\n",
        "\n",
        "        return False, \"Invalid email format\"\n",
        "\n",
        "    return True, \"Valid email\"\n",
        "\n",
        "\n",
        "print(validate_email('abc12@email.com'))\n",
        "\n",
        "\n",
        "emails = [\"user@example.com\", \"invalid@.com\", \"no_at_sign.com\", \"user@example.co.uk\"]\n",
        "for email in emails:\n",
        "    valid, reason = validate_email(email)\n",
        "    print(f\"{email}: {reason}\")"
      ],
      "metadata": {
        "colab": {
          "base_uri": "https://localhost:8080/"
        },
        "id": "WP2beaA8itF9",
        "outputId": "54d11332-d8ab-42f1-dced-32ddfba4d562"
      },
      "execution_count": null,
      "outputs": [
        {
          "output_type": "stream",
          "name": "stdout",
          "text": [
            "(True, 'Valid email')\n",
            "user@example.com: Valid email\n",
            "invalid@.com: Invalid email format\n",
            "no_at_sign.com: Missing @ symbol\n",
            "user@example.co.uk: Valid email\n"
          ]
        }
      ]
    },
    {
      "cell_type": "markdown",
      "source": [
        "Email Validation\n",
        "pattern = r\"^[\\w.%+-]+@[A-Za-z0-9.-]+\\.[A-Za-z]{2,}$\"\n",
        "\n",
        "\n",
        "Breaking this down:\n",
        "\n",
        "^ ensures we start at the beginning of the string\n",
        "[\\w.%+-]+ matches one or more word characters, dots, percent signs, plus signs, or hyphens (common username characters)\n",
        "@ matches the literal @ symbol\n",
        "[A-Za-z0-9.-]+ matches one or more letters, numbers, dots, or hyphens (domain name)\n",
        "\\. matches a literal dot\n",
        "[A-Za-z]{2,} matches two or more letters (top-level domain)\n",
        "$ ensures we end at the end of the string\n",
        "This pattern allows for valid emails while rejecting invalid formats.\n",
        "\n",
        "\n",
        "\n",
        "Date Extraction\n",
        "pattern = r\"\\b(\\d{4})-(\\d{2})-(\\d{2})\\b\"\n",
        "\n",
        "\n",
        "This pattern matches ISO dates (YYYY-MM-DD):\n",
        "\n",
        "\\b ensures we're at a word boundary\n",
        "(\\d{4}) captures exactly 4 digits for the year\n",
        "- matches the literal hyphen\n",
        "(\\d{2}) captures exactly 2 digits for the month\n",
        "- matches the literal hyphen\n",
        "(\\d{2}) captures exactly 2 digits for the day\n",
        "\\b ensures we're at a word boundary\n",
        "Understanding this structure lets you adapt it for other date formats like MM/DD/YYYY.\n",
        "\n"
      ],
      "metadata": {
        "id": "6NxfGYwmjtpW"
      }
    },
    {
      "cell_type": "code",
      "source": [
        "# Password validation\n",
        "password = \"Password123\"\n",
        "has_uppercase = bool(re.search(r\"(?=.*[A-Z])\", password))\n",
        "has_lowercase = bool(re.search(r\"(?=.*[a-z])\", password))\n",
        "has_digit = bool(re.search(r\"(?=.*\\d)\", password))\n",
        "is_long_enough = len(password) >= 8\n",
        "\n",
        "if all([has_uppercase, has_lowercase, has_digit, is_long_enough]):\n",
        "    print(\"Password meets requirements\")\n",
        "else:\n",
        "    print(\"Password does not meet all requirements\")"
      ],
      "metadata": {
        "colab": {
          "base_uri": "https://localhost:8080/"
        },
        "id": "Snxjak2YkFH5",
        "outputId": "ea5318a7-7699-456e-bf4d-c5f78996e4ab"
      },
      "execution_count": null,
      "outputs": [
        {
          "output_type": "stream",
          "name": "stdout",
          "text": [
            "Password meets requirements\n"
          ]
        }
      ]
    },
    {
      "cell_type": "code",
      "source": [
        "# Non-Greedy Matching - Quantifiers are \"greedy\" by default. Meaning they match as much as possible. Adding a ? after a quantifier makes it \"non-greedy\":\n",
        "\n",
        "# Multiline string using triple quotes\n",
        "text = \"\"\"\n",
        "First content\n",
        "Second content\n",
        "\"\"\"\n",
        "\n",
        "# Greedy matching (default)\n",
        "greedy = re.findall(r\"\n",
        "(.*)\",\n",
        " text)\n",
        "print(f\"Greedy: {greedy}\")\n",
        "\n",
        "# Non-greedy matching\n",
        "non_greedy = re.findall(r\"\n",
        "(.*?)\n",
        "\", text)\n",
        "print(f\"Non-greedy: {non_greedy}\")\n",
        "\n",
        "# Understanding the difference between greedy and non-greedy matching is necessary for parsing nested structures like HTML or JSON."
      ],
      "metadata": {
        "colab": {
          "base_uri": "https://localhost:8080/",
          "height": 106
        },
        "id": "qumJgnHuksu6",
        "outputId": "4223c75d-0e30-4c65-9306-d83b95f9f959"
      },
      "execution_count": 72,
      "outputs": [
        {
          "output_type": "error",
          "ename": "SyntaxError",
          "evalue": "unterminated string literal (detected at line 10) (<ipython-input-72-8da685673190>, line 10)",
          "traceback": [
            "\u001b[0;36m  File \u001b[0;32m\"<ipython-input-72-8da685673190>\"\u001b[0;36m, line \u001b[0;32m10\u001b[0m\n\u001b[0;31m    greedy = re.findall(r\"\u001b[0m\n\u001b[0m                        ^\u001b[0m\n\u001b[0;31mSyntaxError\u001b[0m\u001b[0;31m:\u001b[0m unterminated string literal (detected at line 10)\n"
          ]
        }
      ]
    },
    {
      "cell_type": "markdown",
      "source": [
        "When you're learning Learning and Debugging Regex:\n",
        "\n",
        "Start with literal matching: Match exact strings before adding complexity\n",
        "Add character classes: Learn to match categories of characters\n",
        "Master quantifiers: Understand repetition patterns\n",
        "Use capturing groups: Extract structured data\n",
        "Learn anchors and boundaries: Control where patterns match\n",
        "Explore advanced techniques: Lookaheads, non-greedy matching, etc.\n",
        "The key is to keep learning—start simple and gradually move to others as needed.\n",
        "\n",
        "When your regex isn't working as expected:\n",
        "Break it down: Test simpler versions of your pattern to isolate the issue\n",
        "Visualize it: Use tools like regex101.com to see how your pattern matches step by step\n",
        "Test with sample data: Create small test cases that cover different scenarios\n",
        "For example, if you're trying to match phone numbers but your pattern isn't working, try matching just the area code first, then add more components gradually.\n",
        "\n",
        "Wrapping Up\n",
        "Regular expressions are a powerful tool for text processing in data science. They allow you to:\n",
        "\n",
        "Extract structured information from unstructured text\n",
        "Clean and standardize inconsistent data formats\n",
        "Validate data against specific patterns\n",
        "Transform text through sophisticated search and replace operations\n",
        "Remember that regex is a skill that develops over time. Don't try to memorize every metacharacter and technique—instead, focus on understanding the underlying principles and practice regularly with real-world data problems."
      ],
      "metadata": {
        "id": "XBgqUntplazK"
      }
    }
  ]
}