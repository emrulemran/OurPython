{
  "nbformat": 4,
  "nbformat_minor": 0,
  "metadata": {
    "colab": {
      "provenance": [],
      "authorship_tag": "ABX9TyMWR1oSjPVvCVaQsVjbmNH+",
      "include_colab_link": true
    },
    "kernelspec": {
      "name": "python3",
      "display_name": "Python 3"
    },
    "language_info": {
      "name": "python"
    }
  },
  "cells": [
    {
      "cell_type": "markdown",
      "metadata": {
        "id": "view-in-github",
        "colab_type": "text"
      },
      "source": [
        "<a href=\"https://colab.research.google.com/github/emrulemran/OurPython/blob/main/PythonOurs.ipynb\" target=\"_parent\"><img src=\"https://colab.research.google.com/assets/colab-badge.svg\" alt=\"Open In Colab\"/></a>"
      ]
    },
    {
      "cell_type": "code",
      "execution_count": null,
      "metadata": {
        "colab": {
          "base_uri": "https://localhost:8080/"
        },
        "id": "2nVucMmw9Hfa",
        "outputId": "f94f538c-45eb-41b9-ff11-d358874695fb"
      },
      "outputs": [
        {
          "output_type": "stream",
          "name": "stdout",
          "text": [
            "Cloning into 'OurPython'...\n",
            "remote: Enumerating objects: 3, done.\u001b[K\n",
            "remote: Counting objects: 100% (3/3), done.\u001b[K\n",
            "remote: Total 3 (delta 0), reused 0 (delta 0), pack-reused 0 (from 0)\u001b[K\n",
            "Receiving objects: 100% (3/3), done.\n"
          ]
        }
      ],
      "source": [
        "!git clone https://github.com/emrulemran/OurPython.git"
      ]
    },
    {
      "cell_type": "markdown",
      "source": [
        "Trust me, You don't need to learn Python more than this for a Data Engineering role\n",
        "\n",
        "➊ List Comprehensions and Dict Comprehensions\n",
        "↳ Optimize iteration with one-liners\n",
        "↳ Fast filtering and transformations\n",
        "↳ O(n) time complexity\n",
        "\n",
        "➋ Lambda Functions\n",
        "↳ Anonymous functions for concise operations\n",
        "↳ Used in map(), filter(), and sort()\n",
        "↳ Key for functional programming\n",
        "\n",
        "➌ Functional Programming (map, filter, reduce)\n",
        "↳ Apply transformations efficiently\n",
        "↳ Reduce dataset size dynamically\n",
        "↳ Avoid unnecessary loops\n",
        "\n",
        "➍ Iterators and Generators\n",
        "↳ Efficient memory handling with yield\n",
        "↳ Streaming large datasets\n",
        "↳ Lazy evaluation for performance\n",
        "\n",
        "➎ Error Handling with Try-Except\n",
        "↳ Graceful failure handling\n",
        "↳ Preventing crashes in pipelines\n",
        "↳ Custom exception classes\n",
        "\n",
        "➏ Regex for Data Cleaning\n",
        "↳ Extract structured data from unstructured text\n",
        "↳ Pattern matching for text processing\n",
        "↳ Optimized with re.compile()\n",
        "\n",
        "➐ File Handling (CSV, JSON, Parquet)\n",
        "↳ Read and write structured data efficiently\n",
        "↳ pandas.read_csv(), json.load(), pyarrow\n",
        "↳ Handling large files in chunks\n",
        "\n",
        "➑ Handling Missing Data\n",
        "↳ .fillna(), .dropna(), .interpolate()\n",
        "↳ Imputing missing values\n",
        "↳ Reducing nulls for better analytics\n",
        "\n",
        "➒ Pandas Operations\n",
        "↳ DataFrame filtering and aggregations\n",
        "↳ .groupby(), .pivot_table(), .merge()\n",
        "↳ Handling large structured datasets\n",
        "\n",
        "➓ SQL Queries in Python\n",
        "↳ Using sqlalchemy and pandas.read_sql()\n",
        "↳ Writing optimized queries\n",
        "↳ Connecting to databases\n",
        "\n",
        "⓫ Working with APIs\n",
        "↳ Fetching data with requests and httpx\n",
        "↳ Handling rate limits and retries\n",
        "↳ Parsing JSON/XML responses\n",
        "\n",
        "⓬ Cloud Data Handling (AWS S3, Google Cloud, Azure)\n",
        "↳ Upload/download data from cloud storage\n",
        "↳ boto3, gcsfs, azure-storage\n",
        "↳ Handling large-scale data ingestion\n",
        "\n",
        "𝐓𝐡𝐞 𝐛𝐞𝐬𝐭 𝐰𝐚𝐲 𝐭𝐨 𝐥𝐞𝐚𝐫𝐧 𝐏𝐲𝐭𝐡𝐨𝐧 𝐢𝐬 𝐧𝐨𝐭 𝐣𝐮𝐬𝐭 𝐛𝐲 𝐬𝐭𝐮𝐝𝐲𝐢𝐧𝐠, 𝐛𝐮𝐭 𝐛𝐲 𝐢𝐦𝐩𝐥𝐞𝐦𝐞𝐧𝐭𝐢𝐧𝐠 𝐢𝐭"
      ],
      "metadata": {
        "id": "9dIYbDcNLUC7"
      }
    },
    {
      "cell_type": "code",
      "source": [
        "x = 25\n",
        "y = 10\n",
        "\n",
        "print(x * y)"
      ],
      "metadata": {
        "colab": {
          "base_uri": "https://localhost:8080/"
        },
        "id": "6QVPICgG-olO",
        "outputId": "8744ae48-63dc-4c2b-cc86-a729a20d7d83"
      },
      "execution_count": null,
      "outputs": [
        {
          "output_type": "stream",
          "name": "stdout",
          "text": [
            "250\n"
          ]
        }
      ]
    },
    {
      "cell_type": "code",
      "source": [
        "import math\n",
        "n = 3.7\n",
        "floor_num = math.floor(n)\n",
        "print('The floor number is', floor_num)\n",
        "\n",
        "ceil_num = math.ceil(n)\n",
        "print('The ceil number is', floor_num)"
      ],
      "metadata": {
        "colab": {
          "base_uri": "https://localhost:8080/"
        },
        "id": "lUw7SGoJ9VCI",
        "outputId": "16841feb-0acd-4263-e558-7772437e49ab"
      },
      "execution_count": null,
      "outputs": [
        {
          "output_type": "stream",
          "name": "stdout",
          "text": [
            "The floor number is 3\n",
            "The ceil number is 3\n"
          ]
        }
      ]
    },
    {
      "cell_type": "code",
      "source": [
        "# lambda example:\n",
        "\n",
        "lambda_func = lambda x, y : x *y\n",
        "\n",
        "print(lambda_func(5, 6))"
      ],
      "metadata": {
        "colab": {
          "base_uri": "https://localhost:8080/"
        },
        "id": "XIKZwf3FA9u_",
        "outputId": "4876d8d6-dc4f-457e-b266-a6e5eeb01776"
      },
      "execution_count": null,
      "outputs": [
        {
          "output_type": "stream",
          "name": "stdout",
          "text": [
            "30\n"
          ]
        }
      ]
    },
    {
      "cell_type": "code",
      "source": [
        "# defining a function to get the length of a string:\n",
        "\n",
        "def getLength(input):\n",
        "  return len(input)\n",
        "\n",
        "\n",
        "\n",
        "print(getLength(\"we are learning\"))"
      ],
      "metadata": {
        "colab": {
          "base_uri": "https://localhost:8080/"
        },
        "id": "f46NRw-c4Wls",
        "outputId": "4aeafc77-6dea-40c6-f8e0-5f39500991e8"
      },
      "execution_count": null,
      "outputs": [
        {
          "output_type": "stream",
          "name": "stdout",
          "text": [
            "15\n"
          ]
        }
      ]
    },
    {
      "cell_type": "code",
      "source": [
        "#   % modulus or modulo\n",
        "\n",
        "lst = [1,23, 54,45,5, 65,32,5, 6,7, 6,88, 98,3,8, 9,34,77, 8,12]\n",
        "\n",
        "for x in lst:\n",
        "  if x%2 == 0:\n",
        "    print(x)\n",
        "\n",
        "\n",
        "\n",
        "\n",
        "lst1 ={x for x in range(5,10, 2)}\n",
        "print(type(lst1))\n",
        "\n",
        "print(lst1)"
      ],
      "metadata": {
        "id": "h1LembEL5rix",
        "colab": {
          "base_uri": "https://localhost:8080/"
        },
        "outputId": "00a7b4f3-c462-4fa6-dfbf-5396f369ff21"
      },
      "execution_count": null,
      "outputs": [
        {
          "output_type": "stream",
          "name": "stdout",
          "text": [
            "54\n",
            "32\n",
            "6\n",
            "6\n",
            "88\n",
            "98\n",
            "8\n",
            "34\n",
            "8\n",
            "12\n",
            "<class 'set'>\n",
            "{9, 5, 7}\n"
          ]
        }
      ]
    },
    {
      "cell_type": "code",
      "source": [
        "# Generator class and Decorator class\n",
        "\n",
        "A Python generator function allows you to declare a function that behaves like an iterator, providing a faster and easier way to create iterators.\n",
        "\n",
        "A decorator is essentially a function that takes another function as an argument, extends its behavior, and returns the modified function. The\n"
      ],
      "metadata": {
        "id": "0KQ0Gu3ELhxc"
      },
      "execution_count": null,
      "outputs": []
    },
    {
      "cell_type": "code",
      "source": [
        "dict1 ={x, y for x , y  in range(5,10, 2)}\n",
        "print(type(lst1))"
      ],
      "metadata": {
        "id": "4E_vnOYfMmnA"
      },
      "execution_count": null,
      "outputs": []
    },
    {
      "cell_type": "code",
      "source": [
        "# Python Class:\n",
        "# Everything in Python is an object. To create objects we need some Model or Plan or Blue print, which is nothing but class.\n",
        "# Class contains properties (attributes) and actions (behaviour) of object.\n",
        "# Properties can be represented by variables and Actions can be represented by Methods.\n",
        "\n",
        "\n",
        "class myClass:\n",
        "  pass\n",
        "\n",
        "class Student:\n",
        "  ''' This is student class with required data'''\n",
        "print(Student.__doc__)\n",
        "help(Student)\n"
      ],
      "metadata": {
        "id": "escQ3FHfM51N",
        "colab": {
          "base_uri": "https://localhost:8080/"
        },
        "outputId": "359aa485-4ed4-4266-86a0-716f83045318"
      },
      "execution_count": 29,
      "outputs": [
        {
          "output_type": "stream",
          "name": "stdout",
          "text": [
            " This is student class with required data\n",
            "Help on class Student in module __main__:\n",
            "\n",
            "class Student(builtins.object)\n",
            " |  This is student class with required data\n",
            " |  \n",
            " |  Data descriptors defined here:\n",
            " |  \n",
            " |  __dict__\n",
            " |      dictionary for instance variables\n",
            " |  \n",
            " |  __weakref__\n",
            " |      list of weak references to the object\n",
            "\n"
          ]
        }
      ]
    },
    {
      "cell_type": "code",
      "source": [
        "# Python has 3 types of variables: Instance or Object-Level Variables, Static or Class Level Variables and  Local or Method Level Variables\n",
        ""
      ],
      "metadata": {
        "id": "zYXUtXYjZAQw"
      },
      "execution_count": null,
      "outputs": []
    }
  ]
}